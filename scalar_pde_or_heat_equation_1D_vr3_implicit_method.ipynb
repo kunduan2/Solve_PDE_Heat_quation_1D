{
 "cells": [
  {
   "cell_type": "code",
   "execution_count": 1,
   "id": "f1a7a2eb",
   "metadata": {},
   "outputs": [],
   "source": [
    "# from IPython.display import display, IFrame\n",
    "\n",
    "# # Replace 'yourfile.pdf' with the path to your PDF file\n",
    "# file_path = 'theory.pdf'\n",
    "\n",
    "# # Display the PDF\n",
    "# display(IFrame(file_path, width=800, height=600))"
   ]
  },
  {
   "cell_type": "code",
   "execution_count": 2,
   "id": "dc76e735",
   "metadata": {
    "scrolled": true
   },
   "outputs": [],
   "source": [
    "# import all the libraries\n",
    "import numpy as np\n",
    "import matplotlib.pyplot as plt\n",
    "import seaborn as sns\n",
    "import matplotlib.animation as animation\n",
    "from matplotlib.animation import FuncAnimation\n",
    "\n",
    "# sns.set()"
   ]
  },
  {
   "cell_type": "code",
   "execution_count": 3,
   "id": "570b0d04",
   "metadata": {
    "scrolled": true
   },
   "outputs": [
    {
     "data": {
      "image/png": "[encoded data removed]",
      "text/plain": [
       "<Figure size 432x288 with 1 Axes>"
      ]
     },
     "metadata": {},
     "output_type": "display_data"
    }
   ],
   "source": [
    "############### define function and solve pde #####################################################\n",
    "alpha = 1\n",
    "\n",
    "# x-axis details. It is always better to normalize the data if possible.\n",
    "xlen = 1\n",
    "nx = 100\n",
    "dx = xlen/nx\n",
    "x = np.linspace(0, xlen, nx)\n",
    "\n",
    "# ********** time-axis details **********\n",
    "\n",
    "# maximum value of time-step we can use using stability condition\n",
    "dtmax = (dx**2)/(4*alpha)\n",
    "\n",
    "# time-step, used in the algo\n",
    "dt = .1*dtmax  \n",
    "\n",
    "# num of time step\n",
    "nt = 500\n",
    "\n",
    "# calculate gamma\n",
    "gma = alpha*(dt/dx**2)\n",
    "\n",
    "# Initial temperature distribution\n",
    "u = np.exp(-100 * (x - 0.5)**2)  \n",
    "\n",
    "# store the initial condition for later comparison\n",
    "u0 = u\n",
    "\n",
    "# ********** make two matrix: nx by nx **********\n",
    "\n",
    "# Way 1: using brut force\n",
    "A = np.zeros((nx, nx))\n",
    "B = np.zeros((nx, nx))\n",
    "\n",
    "for i in range(1, nx-1):\n",
    "    A[i, i] = 2*(1 + gma)\n",
    "    A[i, i-1] =  -gma\n",
    "    A[i, i+1] = - gma\n",
    "    \n",
    "    # right hand side\n",
    "    B[i, i] = 2*(1 - gma)\n",
    "    B[i, i-1] = gma\n",
    "    B[i, i+1] = gma\n",
    " \n",
    "# ## Way 2: using py in built\n",
    "# A = np.zeros((nx, nx))\n",
    "# B = np.zeros((nx, nx))\n",
    "\n",
    "# np.fill_diagonal(A, 2*(1+gma))\n",
    "# np.fill_diagonal(A[1:], -gma)\n",
    "# np.fill_diagonal(A[1:, 2:], -gma)\n",
    "\n",
    "# Boundary conditions\n",
    "A[0, 0] = 1\n",
    "A[-1, -1] = 1\n",
    "B[0, 0] = 1\n",
    "B[-1, -1] = 1\n",
    "\n",
    "# Time-stepping loop\n",
    "for n in range(nt):\n",
    "    # Right-hand side vector\n",
    "    b = B@u\n",
    "    \n",
    "    # Solve the system A u^{n+1} = b\n",
    "    u = np.linalg.solve(A, b)\n",
    "    \n",
    "# Plot the final solution\n",
    "plt.plot(x, u, label=f\"t = {nt}\",  linewidth=3)\n",
    "plt.plot(x, u0, label=f\"t = {0}\", linestyle='dotted', linewidth=3)\n",
    "\n",
    "# Change the figure background color\n",
    "plt.gcf().set_facecolor('lightblue')  # 'gcf()' gets the current figure\n",
    "\n",
    "# Change the axes background color\n",
    "plt.gca().set_facecolor('lightyellow')\n",
    "\n",
    "plt.xlabel(\"x\")\n",
    "plt.ylabel(\"u(x, t)\")\n",
    "plt.title(\"1D Heat Equation (Crank-Nicolson Method)\")\n",
    "plt.legend()\n",
    "plt.grid()\n",
    "plt.show()"
   ]
  }
 ],
 "metadata": {
  "kernelspec": {
   "display_name": "Python 3 (ipykernel)",
   "language": "python",
   "name": "python3"
  },
  "language_info": {
   "codemirror_mode": {
    "name": "ipython",
    "version": 3
   },
   "file_extension": ".py",
   "mimetype": "text/x-python",
   "name": "python",
   "nbconvert_exporter": "python",
   "pygments_lexer": "ipython3",
   "version": "3.8.8"
  }
 },
 "nbformat": 4,
 "nbformat_minor": 5
}
