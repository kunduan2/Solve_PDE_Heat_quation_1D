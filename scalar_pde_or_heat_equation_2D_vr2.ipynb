{
 "cells": [
  {
   "cell_type": "code",
   "execution_count": 32,
   "id": "bc134338",
   "metadata": {},
   "outputs": [
    {
     "data": {
      "text/html": [
       "<style>.container { width:80% !important; }</style>"
      ],
      "text/plain": [
       "<IPython.core.display.HTML object>"
      ]
     },
     "metadata": {},
     "output_type": "display_data"
    }
   ],
   "source": [
    "############ set-width of the notebook ###############################\n",
    "from IPython.display import display, HTML\n",
    "display(HTML(\"<style>.container { width:80% !important; }</style>\"))"
   ]
  },
  {
   "cell_type": "code",
   "execution_count": 33,
   "id": "2e3bf4d2",
   "metadata": {},
   "outputs": [
    {
     "data": {
      "text/html": [
       "\n",
       "        <iframe\n",
       "            width=\"800\"\n",
       "            height=\"600\"\n",
       "            src=\"theory.pdf\"\n",
       "            frameborder=\"0\"\n",
       "            allowfullscreen\n",
       "            \n",
       "        ></iframe>\n",
       "        "
      ],
      "text/plain": [
       "<IPython.lib.display.IFrame at 0x7a3f63494790>"
      ]
     },
     "metadata": {},
     "output_type": "display_data"
    }
   ],
   "source": [
    "from IPython.display import display, IFrame\n",
    "\n",
    "# Replace 'yourfile.pdf' with the path to your PDF file\n",
    "file_path = 'theory.pdf'\n",
    "\n",
    "# Display the PDF\n",
    "display(IFrame(file_path, width=800, height=600))"
   ]
  },
  {
   "cell_type": "code",
   "execution_count": 34,
   "id": "1ddd3406",
   "metadata": {},
   "outputs": [],
   "source": [
    "############ import libraries ###############################\n",
    "import numpy as np\n",
    "import matplotlib.pyplot as plt\n",
    "import seaborn as sns\n",
    "import matplotlib.animation as animation\n",
    "from matplotlib.animation import FuncAnimation\n",
    "\n",
    "# %matplotlib inline"
   ]
  },
  {
   "cell_type": "markdown",
   "id": "ae5cb94c",
   "metadata": {},
   "source": [
    "#### 2D heat equation/2D PDE solver\n",
    "For heat equation, $$ \\begin{equation}\n",
    "\\frac{\\partial{u}}{\\partial{t}}=\\alpha\\left(\\frac{\\partial^2{u}}{\\partial{x^2}}+\\frac{\\partial^2{u}}{\\partial{y^2}}\\right)\n",
    "\\end{equation},\n",
    "$$\n",
    "the maximum value allowed for the solution to be stable is $\\Delta t < \\Delta t_{max}=\\frac{\\Delta x^2}{4 \\alpha} $. Exactly similar to the 1D case except the addition of second order diff along y axis."
   ]
  },
  {
   "cell_type": "code",
   "execution_count": 35,
   "id": "9ba9fc6a",
   "metadata": {},
   "outputs": [
    {
     "name": "stdout",
     "output_type": "stream",
     "text": [
      "dt = 0.0, dt_max = 0.0, dt_max/dt = 2.0\n"
     ]
    }
   ],
   "source": [
    "#############################################################\n",
    "# coefficients\n",
    "alpha = 2\n",
    "\n",
    "# x-axis details\n",
    "xlen = 1\n",
    "nx = 80*3\n",
    "x = np.linspace(0, xlen, nx)\n",
    "dx = x[1] - x[0]\n",
    "\n",
    "# y-axis details\n",
    "ylen = 2\n",
    "ny = 40*3\n",
    "y = np.linspace(0, ylen, ny)\n",
    "dy = y[1] - y[0]\n",
    "\n",
    "# create mesgrid\n",
    "X, Y = np.meshgrid(x,y)\n",
    "\n",
    "# time-axis details: define max_iter_time\n",
    "nt = 300\n",
    "\n",
    "# condition for stability\n",
    "dt_max = (dx ** 2)/(4 * alpha) \n",
    "\n",
    "# the value of time-step used in this code\n",
    "dt = dt_max/2\n",
    "\n",
    "# coefficent in front of the space variation\n",
    "gamma = (alpha * dt) / (dx ** 2)\n",
    "\n",
    "# print some parameters\n",
    "print(f\"dt = {round(dt, 4)}, dt_max = {round(dt_max, 4)}, dt_max/dt = {round(dt_max/dt, 1)}\")"
   ]
  },
  {
   "cell_type": "code",
   "execution_count": 36,
   "id": "d3721fc8",
   "metadata": {},
   "outputs": [
    {
     "data": {
      "text/plain": [
       "(120, 240)"
      ]
     },
     "execution_count": 36,
     "metadata": {},
     "output_type": "execute_result"
    }
   ],
   "source": [
    "X.shape"
   ]
  },
  {
   "cell_type": "code",
   "execution_count": 37,
   "id": "166172ac",
   "metadata": {
    "scrolled": false
   },
   "outputs": [],
   "source": [
    "###################################################################################################################\n",
    "# make an emtry matrix in 2D. We visualize the matrix in a way such that the rows are stacked along y-axis \n",
    "u = np.empty(( ny, nx))\n",
    "\n",
    "# ********** Set the initial condition **********\n",
    "\n",
    "# initialize u\n",
    "for i in range(nx):\n",
    "    for j in range( ny):\n",
    "        u[j, i] = np.cos(j*dy) + np.sin(i*dx)\n",
    "\n",
    "# Boundary conditions; Note: 1st arg of u is row (i.e. y values) and 2nd is col\n",
    "u[:, 0] = 100 # left\n",
    "u[:, -1] = 0 # right\n",
    "u[0, :] = 0 # bottom\n",
    "u[-1, :] = 100 # top"
   ]
  },
  {
   "cell_type": "code",
   "execution_count": 38,
   "id": "fbc957c9",
   "metadata": {},
   "outputs": [],
   "source": [
    "# u, u.shape"
   ]
  },
  {
   "cell_type": "code",
   "execution_count": 39,
   "id": "02d82ea9",
   "metadata": {
    "code_folding": []
   },
   "outputs": [],
   "source": [
    "############################# Func: define PDE ###########################################\n",
    "def calculate(u):\n",
    "    for k in range(0, nt, 1):\n",
    "        for i in range(1, nx-1, 1):\n",
    "            for j in range(1, ny-1, 1):\n",
    "                uxx = u[j, i+1] + u[j, i-1] - 2*u[j, i]\n",
    "                uyy = u[j+1, i] + u[j-1, i] - 2*u[j, i]\n",
    "                tmp = u[j, i] + gamma * (uxx + uyy) \n",
    "                u[j, i] = tmp\n",
    "    return u\n",
    "\n",
    "def plotheatmap(u_k, k):\n",
    "    plt.clf()\n",
    "    plt.title(f\"Temperature at t = {k*delt:.3f} unit time\")\n",
    "    plt.xlabel(\"x\")\n",
    "    plt.ylabel(\"y\")\n",
    "    # This is to plot u_k (u at time-step k)\n",
    "    plt.pcolormesh(u_k, cmap=plt.cm.jet, vmin=0, vmax=100)\n",
    "    plt.colorbar()\n",
    "\n",
    "#     return pltdefine PDE"
   ]
  },
  {
   "cell_type": "code",
   "execution_count": 40,
   "id": "61a0b7ed",
   "metadata": {},
   "outputs": [],
   "source": [
    "# Do the calculation here (Solve PDE!)\n",
    "u = calculate(u)"
   ]
  },
  {
   "cell_type": "code",
   "execution_count": 41,
   "id": "179757d5",
   "metadata": {},
   "outputs": [
    {
     "data": {
      "text/plain": [
       "(120, 240)"
      ]
     },
     "execution_count": 41,
     "metadata": {},
     "output_type": "execute_result"
    }
   ],
   "source": [
    "u.shape"
   ]
  },
  {
   "cell_type": "code",
   "execution_count": 42,
   "id": "c3e744c3",
   "metadata": {
    "code_folding": []
   },
   "outputs": [
    {
     "data": {
      "image/png": "[encoded data removed]",
      "text/plain": [
       "<Figure size 1440x720 with 2 Axes>"
      ]
     },
     "metadata": {},
     "output_type": "display_data"
    }
   ],
   "source": [
    "########################### density plot ###########################################################\n",
    "from matplotlib import pyplot as plt, cm, colors\n",
    "import numpy as np\n",
    "sns.set()\n",
    "\n",
    "# Creating figure and fig-properties\n",
    "fig = plt.figure(figsize =(20, 10))\n",
    "ax = plt.axes()\n",
    "plt.rcParams[\"figure.autolayout\"] = True\n",
    "plt.rcParams[\"font.size\"] = '24'\n",
    " \n",
    "# Creating color map\n",
    "my_cmap = plt.get_cmap('hot')\n",
    "\n",
    "# Creating dataset\n",
    "Xgrid = X; Ygrid = Y\n",
    "\n",
    "# Creating plot and colorbar\n",
    "surf = plt.pcolormesh(Xgrid, Ygrid, u, shading='auto')\n",
    "fig.colorbar(surf, ax = ax, shrink = 1.0, aspect = 10)\n",
    "\n",
    "ax.set_title('u(x, y) vs. x and y')\n",
    "ax.set_xlabel(\"\\nx\")\n",
    "ax.set_ylabel(\"\\n\\n\\ny\")\n",
    "\n",
    "##### plt.savefig('temperature_density_plot_2D.png',facecolor=\"w\", transparent=True, dpi=300)\n",
    "plt.show()"
   ]
  },
  {
   "cell_type": "code",
   "execution_count": null,
   "id": "a41383af",
   "metadata": {},
   "outputs": [],
   "source": []
  },
  {
   "cell_type": "code",
   "execution_count": null,
   "id": "d114d8a0",
   "metadata": {},
   "outputs": [],
   "source": []
  }
 ],
 "metadata": {
  "kernelspec": {
   "display_name": "Python 3 (ipykernel)",
   "language": "python",
   "name": "python3"
  },
  "language_info": {
   "codemirror_mode": {
    "name": "ipython",
    "version": 3
   },
   "file_extension": ".py",
   "mimetype": "text/x-python",
   "name": "python",
   "nbconvert_exporter": "python",
   "pygments_lexer": "ipython3",
   "version": "3.8.8"
  }
 },
 "nbformat": 4,
 "nbformat_minor": 5
}
